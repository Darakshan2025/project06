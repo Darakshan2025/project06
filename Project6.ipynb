{
  "nbformat": 4,
  "nbformat_minor": 0,
  "metadata": {
    "colab": {
      "provenance": [],
      "authorship_tag": "ABX9TyOnzseeNQyu02WzI63Zt2/l",
      "include_colab_link": true
    },
    "kernelspec": {
      "name": "python3",
      "display_name": "Python 3"
    },
    "language_info": {
      "name": "python"
    }
  },
  "cells": [
    {
      "cell_type": "markdown",
      "metadata": {
        "id": "view-in-github",
        "colab_type": "text"
      },
      "source": [
        "<a href=\"https://colab.research.google.com/github/Darakshan2025/project06/blob/main/Project6.ipynb\" target=\"_parent\"><img src=\"https://colab.research.google.com/assets/colab-badge.svg\" alt=\"Open In Colab\"/></a>"
      ]
    },
    {
      "cell_type": "markdown",
      "source": [
        "1. Using self\n",
        "Assignment:\n",
        "Create a class Student with attributes name and marks. Use the self keyword to initialize these values via a constructor. Add a method display() that prints student details.\n",
        "\n"
      ],
      "metadata": {
        "id": "nzcJKeRSrYPG"
      }
    },
    {
      "cell_type": "code",
      "source": [
        "class Student:\n",
        "    def __init__(self, name, marks):\n",
        "        self.name = name\n",
        "        self.marks = marks\n",
        "\n",
        "    def display(self):\n",
        "        print(\"Student Name:\", self.name)\n",
        "        print(\"Marks:\", self.marks)\n",
        "\n",
        "student1 = Student(\"Darakshan\", 85)\n",
        "student1.display()\n",
        "\n",
        "student2 = Student(\"Avash\", 92)\n",
        "student2.display()"
      ],
      "metadata": {
        "colab": {
          "base_uri": "https://localhost:8080/"
        },
        "id": "xAmYAXXerZ3F",
        "outputId": "f4a57bc2-7a06-4fe1-bfa7-0194dd285be6"
      },
      "execution_count": null,
      "outputs": [
        {
          "output_type": "stream",
          "name": "stdout",
          "text": [
            "Student Name: Darakshan\n",
            "Marks: 85\n",
            "Student Name: Avash\n",
            "Marks: 92\n"
          ]
        }
      ]
    },
    {
      "cell_type": "markdown",
      "source": [
        "2. Using cls\n",
        "Assignment:\n",
        "Create a class Counter that keeps track of how many objects have been created. Use a class variable and a class method with cls to manage and display the count.\n",
        "\n"
      ],
      "metadata": {
        "id": "W7SX6JYgtV_X"
      }
    },
    {
      "cell_type": "code",
      "source": [
        "class Counter:\n",
        "    object_count = 0 # class variable\n",
        "\n",
        "    def __init__(self):\n",
        "        Counter.object_count += 1 # her dafa 1 plus ho ga\n",
        "\n",
        "    @classmethod\n",
        "    def display_count(cls):\n",
        "        print(\"Number of objects created:\", cls.object_count)\n",
        "\n",
        "# teen object bana han\n",
        "obj1 = Counter()\n",
        "obj2 = Counter()\n",
        "obj3 = Counter()\n",
        "\n",
        "Counter.display_count()"
      ],
      "metadata": {
        "colab": {
          "base_uri": "https://localhost:8080/"
        },
        "id": "QurwaGpDtbkt",
        "outputId": "64b31f7c-c75e-43c4-d05c-2a6e10deffb3"
      },
      "execution_count": null,
      "outputs": [
        {
          "output_type": "stream",
          "name": "stdout",
          "text": [
            "Number of objects created: 3\n"
          ]
        }
      ]
    },
    {
      "cell_type": "markdown",
      "source": [
        "3. Public Variables and Methods\n",
        "Assignment:\n",
        "Create a class Car with a public variable brand and a public method start(). Instantiate the class and access both from outside the class.\n",
        "\n"
      ],
      "metadata": {
        "id": "58Iry_Iv2lQn"
      }
    },
    {
      "cell_type": "code",
      "source": [
        "class Car:\n",
        "    def __init__(self, brand):\n",
        "        self.brand = brand  # public variable\n",
        "\n",
        "    def start(self): # public method\n",
        "        print(f\"The {self.brand} car has started..\")\n",
        "\n",
        "#object bana raha han\n",
        "my_car = Car(\"Tesla\")\n",
        "\n",
        "# public variable access\n",
        "print(\"Car brand:\", my_car.brand)\n",
        "\n",
        "#public method call\n",
        "my_car.start()\n"
      ],
      "metadata": {
        "colab": {
          "base_uri": "https://localhost:8080/"
        },
        "id": "l2ZJVdaS2ohO",
        "outputId": "ef6a6778-2537-45c9-e1b8-d035b28d270f"
      },
      "execution_count": null,
      "outputs": [
        {
          "output_type": "stream",
          "name": "stdout",
          "text": [
            "Car brand: Tesla\n",
            "The Tesla car has started..\n"
          ]
        }
      ]
    },
    {
      "cell_type": "markdown",
      "source": [
        "4. Class Variables and Class Methods\n",
        "Assignment:\n",
        "Create a class Bank with a class variable bank_name. Add a class method change_bank_name(cls, name) that allows changing the bank name. Show that it affects all instances.\n",
        "\n"
      ],
      "metadata": {
        "id": "vGjDYD5C4o0u"
      }
    },
    {
      "cell_type": "code",
      "source": [
        "class Bank():\n",
        "  bank_name = \"IDDD Bank\" # class varaible\n",
        "\n",
        "  def __init__(self, account_holder):\n",
        "    self.account_holder = account_holder\n",
        "\n",
        "  @classmethod\n",
        "  def change_bank_name(cls, name):\n",
        "    cls.bank_name = name  # update class varaible\n",
        "\n",
        "  def display(self):\n",
        "    print(f\"Account Holder: self.account_holder, Bank: {Bank.bank_name}\")\n",
        "\n",
        "# object creat\n",
        "user1 = Bank(\"Ahmed\")\n",
        "user2 = Bank(\"Mohsin\")\n",
        "\n",
        "# pehla bank name chek kre ga\n",
        "user1.display()\n",
        "user2.display()\n",
        "\n",
        "# bank k name class mehod sa change ho ga\n",
        "Bank.change_bank_name(\"Habib Bank\")\n",
        "\n",
        "# dobara bank name chack kreo\n",
        "user1.display()\n",
        "user2.display()\n"
      ],
      "metadata": {
        "colab": {
          "base_uri": "https://localhost:8080/"
        },
        "id": "EVgyKZI_4r58",
        "outputId": "d24729c5-eef3-4dc6-924a-b9b49143466a"
      },
      "execution_count": null,
      "outputs": [
        {
          "output_type": "stream",
          "name": "stdout",
          "text": [
            "Account Holder: self.account_holder, Bank: IDDD Bank\n",
            "Account Holder: self.account_holder, Bank: IDDD Bank\n",
            "Account Holder: self.account_holder, Bank: Habib Bank\n",
            "Account Holder: self.account_holder, Bank: Habib Bank\n"
          ]
        }
      ]
    },
    {
      "cell_type": "markdown",
      "source": [
        "5. Static Variables and Static Methods\n",
        "Assignment:\n",
        "Create a class MathUtils with a static method add(a, b) that returns the sum. No class or instance variables should be used.\n",
        "\n"
      ],
      "metadata": {
        "id": "J9JvEmgv6-jB"
      }
    },
    {
      "cell_type": "code",
      "source": [
        "class MathUtils:\n",
        "\n",
        "  @staticmethod\n",
        "  def add(a,b):\n",
        "    return a + b\n",
        "\n",
        "# Static method call (no object req)\n",
        "result = MathUtils.add(2,5)\n",
        "print(\"The total is:\", result)"
      ],
      "metadata": {
        "colab": {
          "base_uri": "https://localhost:8080/"
        },
        "id": "Oi9yjt9L7Cwb",
        "outputId": "5c00c3fb-5b2a-42ca-e561-9226ea050d32"
      },
      "execution_count": null,
      "outputs": [
        {
          "output_type": "stream",
          "name": "stdout",
          "text": [
            "The total is: 7\n"
          ]
        }
      ]
    },
    {
      "cell_type": "markdown",
      "source": [
        "6. Constructors and Destructors\n",
        "Assignment:\n",
        "Create a class Logger that prints a message when an object is created (constructor) and another message when it is destroyed (destructor).\n",
        "\n"
      ],
      "metadata": {
        "id": "XYJnhQvX7zpo"
      }
    },
    {
      "cell_type": "code",
      "source": [
        "class Logger:\n",
        "\n",
        "  # Constructor\n",
        "    def __init__(self):\n",
        "      print(\"Logger object has been created!\")\n",
        "\n",
        "   #Destructor\n",
        "    def __del__(self):\n",
        "      print(\"Logger object has been destroyed!\")\n",
        "\n",
        "#create an object of Logger class\n",
        "logger1 = Logger()\n",
        "\n",
        "# delete the object is destroyed\n",
        "del logger1"
      ],
      "metadata": {
        "colab": {
          "base_uri": "https://localhost:8080/"
        },
        "id": "637o5Nvt73_u",
        "outputId": "a8df774e-a539-4fe0-dd1a-291d4213ef29"
      },
      "execution_count": null,
      "outputs": [
        {
          "output_type": "stream",
          "name": "stdout",
          "text": [
            "Logger object has been created!\n",
            "Logger object has been destroyed!\n"
          ]
        }
      ]
    },
    {
      "cell_type": "markdown",
      "source": [
        "7. Access Modifiers: Public, Private, and Protected\n",
        "Assignment:\n",
        "Create a class Employee with:\n",
        "a public variable name,\n",
        "a protected variable _salary, and\n",
        "a private variable __ssn.\n",
        "Try accessing all three variables from an object of the class and document what happens."
      ],
      "metadata": {
        "id": "VBOB9pNh-9ss"
      }
    },
    {
      "cell_type": "code",
      "source": [
        "class Employee:\n",
        "    #public varaibl\n",
        "    name = \"Ahmed \"\n",
        "\n",
        "    # Proted variable\n",
        "    _salary = 50000\n",
        "\n",
        "    #private variable\n",
        "    __sn = \"123-45-6789\"\n",
        "\n",
        "    # creating an object of employee class\n",
        "emp = Employee()\n",
        "\n",
        "# acces the public varaiable\n",
        "print(\"Name:\", emp.name)\n",
        "\n",
        "# access the protected varaible\n",
        "print(\"Salary:\", emp._salary)\n",
        "\n",
        "# access the private variable (this will raise an error)\n",
        "try:\n",
        "   print(\"SSN:\", emp.__ssn)\n",
        "except AttributeError as e:\n",
        "    print(\"Error:\", e)\n",
        "# accessing the private variable via name mangling\n",
        "print(\"SSN (via name mangling):\", emp._Employee__ssn)\n"
      ],
      "metadata": {
        "colab": {
          "base_uri": "https://localhost:8080/",
          "height": 228
        },
        "id": "3V8_Vy0P_FUG",
        "outputId": "547bd54c-a0da-4624-b78b-93b6616cb8e4"
      },
      "execution_count": null,
      "outputs": [
        {
          "output_type": "stream",
          "name": "stdout",
          "text": [
            "Name: Ahmed \n",
            "Salary: 50000\n",
            "Error: 'Employee' object has no attribute '__ssn'\n"
          ]
        },
        {
          "output_type": "error",
          "ename": "AttributeError",
          "evalue": "'Employee' object has no attribute '_Employee__ssn'",
          "traceback": [
            "\u001b[0;31m---------------------------------------------------------------------------\u001b[0m",
            "\u001b[0;31mAttributeError\u001b[0m                            Traceback (most recent call last)",
            "\u001b[0;32m<ipython-input-9-5ebbf0fef15a>\u001b[0m in \u001b[0;36m<cell line: 0>\u001b[0;34m()\u001b[0m\n\u001b[1;32m     24\u001b[0m     \u001b[0mprint\u001b[0m\u001b[0;34m(\u001b[0m\u001b[0;34m\"Error:\"\u001b[0m\u001b[0;34m,\u001b[0m \u001b[0me\u001b[0m\u001b[0;34m)\u001b[0m\u001b[0;34m\u001b[0m\u001b[0;34m\u001b[0m\u001b[0m\n\u001b[1;32m     25\u001b[0m \u001b[0;31m# accessing the private variable via name mangling\u001b[0m\u001b[0;34m\u001b[0m\u001b[0;34m\u001b[0m\u001b[0m\n\u001b[0;32m---> 26\u001b[0;31m \u001b[0mprint\u001b[0m\u001b[0;34m(\u001b[0m\u001b[0;34m\"SSN (via name mangling):\"\u001b[0m\u001b[0;34m,\u001b[0m \u001b[0memp\u001b[0m\u001b[0;34m.\u001b[0m\u001b[0m_Employee__ssn\u001b[0m\u001b[0;34m)\u001b[0m\u001b[0;34m\u001b[0m\u001b[0;34m\u001b[0m\u001b[0m\n\u001b[0m",
            "\u001b[0;31mAttributeError\u001b[0m: 'Employee' object has no attribute '_Employee__ssn'"
          ]
        }
      ]
    },
    {
      "cell_type": "markdown",
      "source": [
        "8. The super() Function\n",
        "Assignment:\n",
        "Create a class Person with a constructor that sets the name. Inherit a class Teacher from it, add a subject field, and use super() to call the base class constructor.\n",
        "\n"
      ],
      "metadata": {
        "id": "_jTGSLXgBlEl"
      }
    },
    {
      "cell_type": "code",
      "source": [
        "# base class person\n",
        "class Person:\n",
        "    def __init__(self, name):\n",
        "      self.name = name\n",
        "\n",
        "#derived class teacher\n",
        "class Teacher(Person):\n",
        "    def __init__(self, name, subject):\n",
        "      # calling the base class constructor using super()\n",
        "        super().__init__(name)\n",
        "        self.subject = subject\n",
        "\n",
        "    def display(self):\n",
        "        print(f\"Name: {self.name}\")\n",
        "        print(f\"Subject: {self.subject}\")\n",
        "\n",
        "# teacher class ka object bana raha han\n",
        "teacher = Teacher(\"Mr.Hamza Syed\", \"Python\")\n",
        "\n",
        "# teacher ka detail display kia ha.\n",
        "teacher.display()"
      ],
      "metadata": {
        "id": "omppJrYCBpsz",
        "colab": {
          "base_uri": "https://localhost:8080/"
        },
        "outputId": "463f19e3-048b-417f-c8ef-b8fe353ba09f"
      },
      "execution_count": null,
      "outputs": [
        {
          "output_type": "stream",
          "name": "stdout",
          "text": [
            "Name: Mr.Hamza Syed\n",
            "Subject: Python\n"
          ]
        }
      ]
    },
    {
      "cell_type": "markdown",
      "source": [
        "9. Abstract Classes and Methods\n",
        "Assignment:\n",
        "Use the abc module to create an abstract class Shape with an abstract method area(). Inherit a class Rectangle that implements area().\n",
        "\n"
      ],
      "metadata": {
        "id": "2JWFrosZcC0p"
      }
    },
    {
      "cell_type": "code",
      "source": [
        "from abc import ABC, abstractmethod\n",
        "\n",
        "#Abstrat  class shape\n",
        "class Shape(ABC):\n",
        "  @abstractmethod\n",
        "  def area(self):\n",
        "    pass\n",
        "\n",
        "#class rectangle that inherits from shape and implements the area method\n",
        "class Rectangle(Shape):\n",
        "  def __init__(self, width, height):\n",
        "      self.width = width\n",
        "      self.height = height\n",
        "\n",
        "  def area(self):\n",
        "      return self.width * self.height\n",
        "\n",
        " # create an object of rectangler and calling the area ethod\n",
        "rect = Rectangle(5, 10)\n",
        "print(f\"Area of Rectangle: {rect.area()}\")"
      ],
      "metadata": {
        "colab": {
          "base_uri": "https://localhost:8080/"
        },
        "id": "r5LOE8YjcGUh",
        "outputId": "7db82f22-025e-4f3a-e3e3-19c535039db3"
      },
      "execution_count": null,
      "outputs": [
        {
          "output_type": "stream",
          "name": "stdout",
          "text": [
            "Area of Rectangle: 50\n"
          ]
        }
      ]
    },
    {
      "cell_type": "markdown",
      "source": [
        "10. Instance Methods\n",
        "Assignment:\n",
        "Create a class Dog with instance variables name and breed. Add an instance method bark() that prints a message including the dog's name.\n",
        "\n"
      ],
      "metadata": {
        "id": "0JKRuTBI2Qet"
      }
    },
    {
      "cell_type": "code",
      "source": [
        "from types import MethodDescriptorType\n",
        "class Dog:\n",
        "    def __init__(self, name, breed):\n",
        "      self.name = name\n",
        "      self.breed = breed\n",
        "\n",
        "    def bark(self):\n",
        "    #instance method that prints a message with the dog's name\n",
        "      print(f\"{self.name} says woof!\")\n",
        "\n",
        "  #creating an object of the dog class\n",
        "my_dog = Dog(\"Buddy\", \" Golden Retriever\")\n",
        "\n",
        "  # calling the bark MethodDescriptorType\n",
        "my_dog.bark()\n"
      ],
      "metadata": {
        "id": "cWn7Ni8x2f-3",
        "colab": {
          "base_uri": "https://localhost:8080/"
        },
        "outputId": "db516623-ef8b-4261-c395-8927d75bbbea"
      },
      "execution_count": 13,
      "outputs": [
        {
          "output_type": "stream",
          "name": "stdout",
          "text": [
            "Buddy says woof!\n"
          ]
        }
      ]
    },
    {
      "cell_type": "markdown",
      "source": [
        "11. Class Methods\n",
        "Assignment:\n",
        "Create a class Book with a class variable total_books. Add a class method increment_book_count() to increase the count when a new book is added."
      ],
      "metadata": {
        "id": "30JL6gLX4IR0"
      }
    },
    {
      "cell_type": "code",
      "source": [
        "class Book:\n",
        "  #class variable to trac the total number of books.\n",
        "  total_books = 0\n",
        "\n",
        "  @classmethod\n",
        "  def increment_book_count(cls):\n",
        "    # increment the total_books count when  anew book is added\n",
        "      cls.total_books += 1\n",
        "\n",
        "  def __init__(self, title, author):\n",
        "    #instance variable\n",
        "    self.title = title\n",
        "    self.author = author\n",
        "    # ca;; tje c;ass ,wtjpd tp omcr,emt tj enppl cpimt wjem a mew os create\n",
        "    Book.increment_book_count()\n",
        "#creating new bok objects\n",
        "book1 = Book(\"The Great Gatsby\", \"F. Scott Firzgeral\")\n",
        "book2 = Book(\"1984\", \"Gerogre Orsesell\")\n",
        "\n",
        "# accessing the class variable\n",
        "print(f\"Total books: {Book.total_books}\")"
      ],
      "metadata": {
        "colab": {
          "base_uri": "https://localhost:8080/"
        },
        "id": "t-lH_LGc4LWr",
        "outputId": "0e817696-5bf4-430b-cbe3-4c63efa6aa9f"
      },
      "execution_count": null,
      "outputs": [
        {
          "output_type": "stream",
          "name": "stdout",
          "text": [
            "Total books: 2\n"
          ]
        }
      ]
    },
    {
      "cell_type": "markdown",
      "source": [
        "12. Static Methods\n",
        "Assignment:\n",
        "Create a class TemperatureConverter with a static method celsius_to_fahrenheit(c) that returns the Fahrenheit value.\n",
        "\n"
      ],
      "metadata": {
        "id": "vyH9s2UZ6qUW"
      }
    },
    {
      "cell_type": "code",
      "source": [
        "#create a class temperture\n",
        "class TemperatureConverter:\n",
        "  @staticmethod\n",
        "  def celsuis_to_farenheit(c) :\n",
        "    #formula to convert celsuis to farenheit\n",
        "    return(c * 9/5) + 32\n",
        "\n",
        " #calling the static method without creating an instance of the class\n",
        "celsuis = 25\n",
        "farenheit = TemperatureConverter.celsuis_to_farenheit(celsuis)\n",
        "print(f\"{celsuis}C is equal to {farenheit}F\")"
      ],
      "metadata": {
        "colab": {
          "base_uri": "https://localhost:8080/"
        },
        "id": "DG-VQ5-46s5F",
        "outputId": "e279bc0e-01e5-4616-c3e7-4faa96d678f1"
      },
      "execution_count": null,
      "outputs": [
        {
          "output_type": "stream",
          "name": "stdout",
          "text": [
            "25C is equal to 77.0F\n"
          ]
        }
      ]
    },
    {
      "cell_type": "markdown",
      "source": [
        "13. Composition\n",
        "Assignment:\n",
        "Create a class Engine and a class Car. Use composition by passing an Engine object to the Car class during initialization. Access a method of the Engine class via the Car class.\n",
        "\n"
      ],
      "metadata": {
        "id": "EyOEmcXj8vkp"
      }
    },
    {
      "cell_type": "code",
      "source": [
        "from typing import Type\n",
        "#create a class\n",
        "class Engine:\n",
        "    def __init__(self, engine_type):\n",
        "      self.engine_type = engine_type\n",
        "\n",
        "    def start(self):\n",
        "      return f\"The {self.engine_type} engine is starting.\"\n",
        "\n",
        "class Car:\n",
        "  def __init__(self, brand, engine):\n",
        "    self.brand = brand\n",
        "    #composition : passing an engine object to the car class\n",
        "    self.engine = engine\n",
        "\n",
        "  def start_car(self):\n",
        "    #accessing the start method of th ecngine class via the car class\n",
        "    return f\"{self.brand} car is starting. {self.engine.start()}\"\n",
        "\n",
        "#creating an engine object\n",
        "engine = Engine(\"V8\")\n",
        "\n",
        "#creating a car object and passing the engine object to it\n",
        "car = Car(\"Ford\", engine)\n",
        "\n",
        "#calling the start_car method wich uses the engine start method\n",
        "print(car.start_car())"
      ],
      "metadata": {
        "colab": {
          "base_uri": "https://localhost:8080/"
        },
        "id": "1shCxYNz80Cs",
        "outputId": "ad9e452c-95c2-419f-f452-94f76ef4093e"
      },
      "execution_count": null,
      "outputs": [
        {
          "output_type": "stream",
          "name": "stdout",
          "text": [
            "Ford car is starting. The V8 engine is starting.\n"
          ]
        }
      ]
    },
    {
      "cell_type": "markdown",
      "source": [
        "14. Aggregation\n",
        "Assignment:\n",
        "Create a class Department and a class Employee. Use aggregation by having a Department object store a reference to an Employee object that exists independently of it.\n",
        "\n"
      ],
      "metadata": {
        "id": "UOUrJLTf__nG"
      }
    },
    {
      "cell_type": "code",
      "source": [],
      "metadata": {
        "id": "zCCPzRWTCa8E"
      },
      "execution_count": null,
      "outputs": []
    },
    {
      "cell_type": "code",
      "source": [
        "class Employee:\n",
        "  def __init__(self, name, position):\n",
        "    self.name = name\n",
        "    self.postiion = position\n",
        "\n",
        "    def get_employee_info(self):\n",
        "      return f\"Employee Name: {self.name}, Position: {self.position}\"\n",
        "\n",
        "class Department:\n",
        "  def __init__ (self, department_name, employee):\n",
        "      self.department_name = department_name\n",
        "\n",
        "      #aggregate storing a reference to an emplyee object\n",
        "      def get_department_info(self):\n",
        "          return f\"Department Name: {self.department_name}, Employee Info: {employee.get_employee_info()}\"\n",
        "\n",
        "# creat en employee object:\n",
        "employee1 = Employee(\"Darakshan\", \"Learner\")\n",
        "\n",
        "#creating a department object and passing the employee object to it\n",
        "department1 = Department(\"IT Department\", employee1)\n",
        "#calling the method to get the deparmtn and employyee info\n",
        "print(\"department1.get_department_info\")"
      ],
      "metadata": {
        "colab": {
          "base_uri": "https://localhost:8080/"
        },
        "id": "60K3pEkKAK1P",
        "outputId": "ac62c6f3-11ef-4377-ba87-cea4fdafde78"
      },
      "execution_count": null,
      "outputs": [
        {
          "output_type": "stream",
          "name": "stdout",
          "text": [
            "department1.get_department_info\n"
          ]
        }
      ]
    },
    {
      "cell_type": "markdown",
      "source": [
        "15. Method Resolution Order (MRO) and Diamond Inheritance\n",
        "Assignment:\n",
        "Create four classes:\n",
        "\n",
        "A with a method show(),\n",
        "\n",
        "B and C that inherit from A and override show(),\n",
        "\n",
        "D that inherits from both B and C.\n",
        "\n",
        "Create an object of D and call show() to observe MRO."
      ],
      "metadata": {
        "id": "J5L-KqNmCvWn"
      }
    },
    {
      "cell_type": "code",
      "source": [
        "class A:\n",
        "  def show(self):\n",
        "    print(\"Method from class A\")\n",
        "\n",
        "class B(A):\n",
        "  def show(self):\n",
        "    print(\"Method from class B\")\n",
        "\n",
        "class C(A):\n",
        "  def show(self):\n",
        "      print(\"Method from class C\")\n",
        "\n",
        "class D(B, C):\n",
        "  pass\n",
        "\n",
        " #creating an object of class D\n",
        "d = D()\n",
        "  # calling the show() method to observe the Method Resolution Order(MRO)\n",
        "d.show()\n",
        "\n",
        " #prnting the MRO to sobserve the order\n",
        "print(D.mro())"
      ],
      "metadata": {
        "colab": {
          "base_uri": "https://localhost:8080/"
        },
        "id": "Rdo6UMMMuppl",
        "outputId": "239e053e-6c80-4d69-a9b3-da67c7185b03"
      },
      "execution_count": null,
      "outputs": [
        {
          "output_type": "stream",
          "name": "stdout",
          "text": [
            "Method from class B\n",
            "[<class '__main__.D'>, <class '__main__.B'>, <class '__main__.C'>, <class '__main__.A'>, <class 'object'>]\n"
          ]
        }
      ]
    },
    {
      "cell_type": "markdown",
      "source": [
        "16. Function Decorators\n",
        "Assignment:\n",
        "Write a decorator function log_function_call that prints \"Function is being called\" before a function executes. Apply it to a function say_hello()."
      ],
      "metadata": {
        "id": "-vHbXZsfxBY_"
      }
    },
    {
      "cell_type": "code",
      "source": [
        "#Decorator function\n",
        "def log_function_call(func):\n",
        "    def wrapper():\n",
        "      print(\"Functinis being called\")\n",
        "      return func() # call the original function\n",
        "    return wrapper\n",
        "\n",
        "  # function to be decorated\n",
        "\n",
        "@log_function_call\n",
        "def say_hello():\n",
        "  print(\"Hello, world!\")\n",
        "\n",
        "  # calling the decorated function\n",
        "say_hello()\n"
      ],
      "metadata": {
        "colab": {
          "base_uri": "https://localhost:8080/"
        },
        "id": "TfebwwKRxFij",
        "outputId": "2588403a-c9d7-4412-c3eb-ab81fbc9c741"
      },
      "execution_count": null,
      "outputs": [
        {
          "output_type": "stream",
          "name": "stdout",
          "text": [
            "Functinis being called\n",
            "Hello, world!\n"
          ]
        }
      ]
    },
    {
      "cell_type": "markdown",
      "source": [
        "17. Class Decorators\n",
        "Assignment:\n",
        "Create a class decorator add_greeting that modifies a class to add a greet() method returning \"Hello from Decorator!\". Apply it to a class Person."
      ],
      "metadata": {
        "id": "nr238DUK0qSH"
      }
    },
    {
      "cell_type": "code",
      "source": [
        "# Class decorator\n",
        "def add_greeting(cls):\n",
        "    def greet(self):\n",
        "        return \"Hello from Decorator!\"\n",
        "\n",
        "    # Add the greet method to the class\n",
        "    cls.greet = greet\n",
        "    return cls  # Return the modified class\n",
        "\n",
        "# Apply the class decorator to the Person class\n",
        "@add_greeting\n",
        "class Person:\n",
        "    def __init__(self, name):\n",
        "        self.name = name\n",
        "\n",
        "    def introduce(self):\n",
        "        return f\"Hi, I'm {self.name}\"\n",
        "\n",
        "# Creating an instance of the Person class\n",
        "person = Person(\"Alice\")\n",
        "\n",
        "# Calling the greet method added by the decorator\n",
        "print(person.greet())\n"
      ],
      "metadata": {
        "colab": {
          "base_uri": "https://localhost:8080/"
        },
        "id": "h4CIdxYk0svN",
        "outputId": "49e37f16-4b77-4774-ffc8-d08d5e561bdb"
      },
      "execution_count": null,
      "outputs": [
        {
          "output_type": "stream",
          "name": "stdout",
          "text": [
            "Hello from Decorator!\n"
          ]
        }
      ]
    },
    {
      "cell_type": "markdown",
      "source": [
        "18. Property Decorators: @property, @setter, and @deleter\n",
        "Assignment:\n",
        "Create a class Product with a private attribute _price. Use @property to get the price, @price.setter to update it, and @price.deleter to delete it."
      ],
      "metadata": {
        "id": "Mautt3O25y0x"
      }
    },
    {
      "cell_type": "code",
      "source": [
        "class Product:\n",
        "    def __init__(self, name, price):\n",
        "        self.name = name\n",
        "        self._price = price  # private attribute\n",
        "\n",
        "    # Getter for the price attribute\n",
        "    @property\n",
        "    def price(self):\n",
        "        return self._price\n",
        "\n",
        "    # Setter to update the price attribute\n",
        "    @price.setter\n",
        "    def price(self, value):\n",
        "        if value < 0:\n",
        "            print(\"Price cannot be negative!\")\n",
        "        else:\n",
        "            self._price = value\n",
        "\n",
        "    # Deleter to delete the price attribute\n",
        "    @price.deleter\n",
        "    def price(self):\n",
        "        print(f\"deleting the price of {self.name}\")\n",
        "        del self._price\n",
        "\n",
        "# Creating a product object\n",
        "product = Product(\"Laptop\", 1000)\n",
        "\n",
        "# Accessing the price using @property\n",
        "print(product.price)\n",
        "\n",
        "#updating the price using the @price.setter\n",
        "product.price = 1200\n",
        "print(product.price)\n",
        "\n",
        "#trying to set a negative price\n",
        "product.price = -500\n",
        "print(product.price)\n",
        "\n",
        "#deleting the price using @price.deleter\n",
        "del product.price\n",
        "\n"
      ],
      "metadata": {
        "colab": {
          "base_uri": "https://localhost:8080/"
        },
        "id": "6F4jxdQD53Md",
        "outputId": "bfac7034-c6b8-418b-8fec-f617b53846ca"
      },
      "execution_count": 4,
      "outputs": [
        {
          "output_type": "stream",
          "name": "stdout",
          "text": [
            "1000\n",
            "1200\n",
            "Price cannot be negative!\n",
            "1200\n",
            "deleting the price of Laptop\n"
          ]
        }
      ]
    },
    {
      "cell_type": "markdown",
      "source": [
        "19. callable() and __call__()\n",
        "Assignment:\n",
        "Create a class Multiplier with an __init__() to set a factor. Define a __call__() method that multiplies an input by the factor. Test it with callable() and by calling the object like a function."
      ],
      "metadata": {
        "id": "4u97jtp-8D7S"
      }
    },
    {
      "cell_type": "code",
      "source": [
        "class Multiplier:\n",
        "  def __init__(self, factor):\n",
        "    self.factor = factor  # setting the factor\n",
        "\n",
        "  def __call__(self, number):\n",
        "    #this method is allows the object to be called like a function\n",
        "    return number * self.factor\n",
        "\n",
        " #creating an instance of multiplier with a factor of 5\n",
        "multiplier = Multiplier(5)\n",
        "\n",
        " # tesitng with callable() to check if the object is  callable\n",
        "print(callable(multiplier))\n",
        "\n",
        "# calling the object like a function to multiply an input by the factor\n",
        "result = multiplier(10) # this calls __call__(10) method\n",
        "print(result)"
      ],
      "metadata": {
        "colab": {
          "base_uri": "https://localhost:8080/"
        },
        "id": "NAZUoSKD8bfV",
        "outputId": "35c7c6fb-5a7d-4d76-e3db-d7f55d1e7816"
      },
      "execution_count": 5,
      "outputs": [
        {
          "output_type": "stream",
          "name": "stdout",
          "text": [
            "True\n",
            "50\n"
          ]
        }
      ]
    },
    {
      "cell_type": "markdown",
      "source": [
        "20. Creating a Custom Exception\n",
        "Assignment:\n",
        "Create a custom exception InvalidAgeError. Write a function check_age(age) that raises this exception if age < 18. Handle it with try...except."
      ],
      "metadata": {
        "id": "w82Wv-ru_qTB"
      }
    },
    {
      "cell_type": "code",
      "source": [
        "# Creating custom exception\n",
        "class InvalidAgeError(Exception):\n",
        "    def __init__(self, message=\"Age must be 18 or older\"):\n",
        "        self.message = message\n",
        "        super().__init__(self.message)\n",
        "\n",
        "# Function to check age\n",
        "def check_age(age):\n",
        "    if age < 18:\n",
        "        raise InvalidAgeError(f\"Invalid age: {age}. You must be 18 or older.\")\n",
        "    else:\n",
        "        print(f\"Age {age} is valid!\")\n",
        "\n",
        "# Handling the exception using try..except\n",
        "try:\n",
        "    age = int(input(\"Enter your age: \"))\n",
        "    check_age(age)\n",
        "except InvalidAgeError as e:\n",
        "    print(f\"Error: {e}\")\n",
        "except ValueError:\n",
        "    print(\"Please enter a valid integer for age.\")\n"
      ],
      "metadata": {
        "colab": {
          "base_uri": "https://localhost:8080/"
        },
        "id": "sOcTXGuF_tLP",
        "outputId": "9e46ccc4-d7de-4cd3-dabf-8f3fec8bd2a9"
      },
      "execution_count": 10,
      "outputs": [
        {
          "output_type": "stream",
          "name": "stdout",
          "text": [
            "Enter your age: 30\n",
            "Age 30 is valid!\n"
          ]
        }
      ]
    },
    {
      "cell_type": "markdown",
      "source": [
        "21. Make a Custom Class Iterable\n",
        "Assignment:\n",
        "Create a class Countdown that takes a start number. Implement __iter__() and __next__() to make the object iterable in a for-loop, counting down to 0."
      ],
      "metadata": {
        "id": "XK03me8dCqur"
      }
    },
    {
      "cell_type": "code",
      "source": [
        "#\n",
        "class Countdown():\n",
        "  def __init__(self, start):\n",
        "    self.start = start\n",
        "    self.current = start #initialize current to the starting number\n",
        "\n",
        "  def __iter__(self):\n",
        "    return self # returnn the iterator object itself\n",
        "\n",
        "  def __next__(self):\n",
        "    if self.current < 0: # if current is less then 0 stop the iteration\n",
        "      raise StopIteration\n",
        "    #decrease current b 1 and return the value\n",
        "    self.current -= 1\n",
        "    return self.current +1 # return the number before decrement\n",
        "\n",
        " # creating the object of countdown\n",
        "countdown = Countdown(5)\n",
        "\n",
        " #using the countdown object in a for loop\n",
        "for number in countdown:\n",
        "  print(number)\n"
      ],
      "metadata": {
        "colab": {
          "base_uri": "https://localhost:8080/"
        },
        "id": "BX3TUJw9CuSa",
        "outputId": "7f5a28d8-5f8b-4b54-f419-3b0915b1ccac"
      },
      "execution_count": 11,
      "outputs": [
        {
          "output_type": "stream",
          "name": "stdout",
          "text": [
            "5\n",
            "4\n",
            "3\n",
            "2\n",
            "1\n",
            "0\n"
          ]
        }
      ]
    }
  ]
}